{
 "cells": [
  {
   "cell_type": "code",
   "execution_count": 11,
   "metadata": {},
   "outputs": [
    {
     "ename": "FileNotFoundError",
     "evalue": "Dataset not found: /Users/hadywehbi/credit_card_fraud_detection/notebooks/data/cleaned_creditcard.csv",
     "output_type": "error",
     "traceback": [
      "\u001b[0;31m---------------------------------------------------------------------------\u001b[0m",
      "\u001b[0;31mFileNotFoundError\u001b[0m                         Traceback (most recent call last)",
      "Cell \u001b[0;32mIn[11], line 19\u001b[0m\n\u001b[1;32m     17\u001b[0m \u001b[38;5;66;03m# Check if the dataset exists\u001b[39;00m\n\u001b[1;32m     18\u001b[0m \u001b[38;5;28;01mif\u001b[39;00m \u001b[38;5;129;01mnot\u001b[39;00m os\u001b[38;5;241m.\u001b[39mpath\u001b[38;5;241m.\u001b[39mexists(DATA_PATH):\n\u001b[0;32m---> 19\u001b[0m     \u001b[38;5;28;01mraise\u001b[39;00m \u001b[38;5;167;01mFileNotFoundError\u001b[39;00m(\u001b[38;5;124mf\u001b[39m\u001b[38;5;124m\"\u001b[39m\u001b[38;5;124mDataset not found: \u001b[39m\u001b[38;5;132;01m{\u001b[39;00mDATA_PATH\u001b[38;5;132;01m}\u001b[39;00m\u001b[38;5;124m\"\u001b[39m)\n\u001b[1;32m     21\u001b[0m \u001b[38;5;66;03m# Load dataset\u001b[39;00m\n\u001b[1;32m     22\u001b[0m df \u001b[38;5;241m=\u001b[39m pd\u001b[38;5;241m.\u001b[39mread_csv(DATA_PATH)\n",
      "\u001b[0;31mFileNotFoundError\u001b[0m: Dataset not found: /Users/hadywehbi/credit_card_fraud_detection/notebooks/data/cleaned_creditcard.csv"
     ]
    }
   ],
   "source": [
    "import os\n",
    "import joblib\n",
    "import pandas as pd\n",
    "from sklearn.model_selection import train_test_split\n",
    "from sklearn.linear_model import LogisticRegression\n",
    "from sklearn.ensemble import RandomForestClassifier\n",
    "from sklearn.metrics import accuracy_score, classification_report\n",
    "\n",
    "# 🔹 1. Define paths correctly\n",
    "BASE_DIR = os.path.abspath(os.path.join(os.getcwd(), \"..\"))  # Get base directory dynamically\n",
    "DATA_PATH = os.path.join(BASE_DIR, \"data\", \"cleaned_creditcard.csv\")\n",
    "MODEL_DIR = os.path.join(BASE_DIR, \"models\")\n",
    "\n",
    "# Ensure the models directory exists\n",
    "os.makedirs(MODEL_DIR, exist_ok=True)\n",
    "\n",
    "# 🔹 2. Check if dataset exists\n",
    "if not os.path.exists(DATA_PATH):\n",
    "    raise FileNotFoundError(f\"Dataset not found: {DATA_PATH}\")\n",
    "\n",
    "# 🔹 3. Load dataset\n",
    "df = pd.read_csv(DATA_PATH)\n",
    "\n",
    "# Check for missing values\n",
    "if df.isnull().sum().sum() > 0:\n",
    "    print(\"Warning: Missing values found! Filling with zeros.\")\n",
    "    df = df.fillna(0)  # Handle missing values if any\n",
    "\n",
    "# 🔹 4. Separate features and target\n",
    "X = df.drop(columns=[\"Class\"])\n",
    "y = df[\"Class\"]\n",
    "\n",
    "# 🔹 5. Reduce training size to 70%\n",
    "X_train, X_test, y_train, y_test = train_test_split(X, y, train_size=0.7, test_size=0.3, random_state=42)\n",
    "\n",
    "# Convert DataFrame to NumPy arrays for stability\n",
    "X_train, X_test = X_train.values, X_test.values\n",
    "y_train, y_test = y_train.values, y_test.values\n",
    "\n",
    "# 🔹 6. Train Logistic Regression Model\n",
    "logistic_model = LogisticRegression(solver=\"liblinear\", max_iter=200, random_state=42)\n",
    "logistic_model.fit(X_train, y_train)\n",
    "y_pred = logistic_model.predict(X_test)\n",
    "print(f\"🔹 Logistic Regression Accuracy: {accuracy_score(y_test, y_pred):.4f}\")\n",
    "print(classification_report(y_test, y_pred))\n",
    "\n",
    "# 🔹 7. Train Random Forest Model (Optimized Hyperparameters)\n",
    "rf_model = RandomForestClassifier(n_estimators=100, max_depth=10, min_samples_split=5, n_jobs=-1, random_state=42)\n",
    "rf_model.fit(X_train, y_train)\n",
    "y_rf_pred = rf_model.predict(X_test)\n",
    "print(f\"🔹 Random Forest Accuracy: {accuracy_score(y_test, y_rf_pred):.4f}\")\n",
    "print(classification_report(y_test, y_rf_pred))\n",
    "\n",
    "# 🔹 8. Save models\n",
    "logistic_model_path = os.path.join(MODEL_DIR, \"logistic_regression.pkl\")\n",
    "rf_model_path = os.path.join(MODEL_DIR, \"random_forest.pkl\")\n",
    "\n",
    "joblib.dump(logistic_model, logistic_model_path)\n",
    "joblib.dump(rf_model, rf_model_path)\n",
    "\n",
    "print(f\"✅ Models saved successfully at:\\n- {logistic_model_path}\\n- {rf_model_path}\")\n",
    "\n",
    "# 🔹 9. Save feature column names for API\n",
    "feature_columns_path = os.path.join(MODEL_DIR, \"feature_columns.pkl\")\n",
    "feature_columns = X.columns.tolist()\n",
    "joblib.dump(feature_columns, feature_columns_path)\n",
    "\n",
    "print(f\"✅ Feature columns saved successfully at {feature_columns_path}\")\n"
   ]
  }
 ],
 "metadata": {
  "kernelspec": {
   "display_name": "venv",
   "language": "python",
   "name": "python3"
  },
  "language_info": {
   "codemirror_mode": {
    "name": "ipython",
    "version": 3
   },
   "file_extension": ".py",
   "mimetype": "text/x-python",
   "name": "python",
   "nbconvert_exporter": "python",
   "pygments_lexer": "ipython3",
   "version": "3.12.4"
  }
 },
 "nbformat": 4,
 "nbformat_minor": 2
}
