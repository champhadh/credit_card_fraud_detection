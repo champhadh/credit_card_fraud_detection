{
 "cells": [
  {
   "cell_type": "code",
   "execution_count": 6,
   "metadata": {},
   "outputs": [
    {
     "name": "stdout",
     "output_type": "stream",
     "text": [
      "Base Directory: /Users/hadywehbi/credit_card_fraud_detection\n",
      "Data Path: /Users/hadywehbi/credit_card_fraud_detection/data/cleaned_creditcard.csv\n",
      "Model Directory: /Users/hadywehbi/credit_card_fraud_detection/models\n",
      "Models loaded successfully!\n"
     ]
    },
    {
     "name": "stderr",
     "output_type": "stream",
     "text": [
      "/Users/hadywehbi/credit_card_fraud_detection/venv/lib/python3.12/site-packages/sklearn/utils/validation.py:2732: UserWarning: X has feature names, but LogisticRegression was fitted without feature names\n",
      "  warnings.warn(\n",
      "/Users/hadywehbi/credit_card_fraud_detection/venv/lib/python3.12/site-packages/sklearn/utils/validation.py:2732: UserWarning: X has feature names, but RandomForestClassifier was fitted without feature names\n",
      "  warnings.warn(\n"
     ]
    },
    {
     "name": "stdout",
     "output_type": "stream",
     "text": [
      "\n",
      "Logistic Regression Model Performance:\n",
      "Accuracy: 0.9462\n",
      "              precision    recall  f1-score   support\n",
      "\n",
      "           0       0.92      0.98      0.95    284315\n",
      "           1       0.97      0.92      0.94    284315\n",
      "\n",
      "    accuracy                           0.95    568630\n",
      "   macro avg       0.95      0.95      0.95    568630\n",
      "weighted avg       0.95      0.95      0.95    568630\n",
      "\n",
      "\n",
      "Random Forest Model Performance:\n",
      "Accuracy: 0.9888\n",
      "              precision    recall  f1-score   support\n",
      "\n",
      "           0       0.98      1.00      0.99    284315\n",
      "           1       1.00      0.98      0.99    284315\n",
      "\n",
      "    accuracy                           0.99    568630\n",
      "   macro avg       0.99      0.99      0.99    568630\n",
      "weighted avg       0.99      0.99      0.99    568630\n",
      "\n",
      "Predictions saved successfully at /Users/hadywehbi/credit_card_fraud_detection/data/predictions.csv\n"
     ]
    }
   ],
   "source": [
    "import os\n",
    "import joblib\n",
    "import pandas as pd\n",
    "from sklearn.metrics import accuracy_score, classification_report\n",
    "\n",
    "# Get the absolute path to the project directory (two levels up from notebooks/)\n",
    "BASE_DIR = os.path.abspath(os.path.join(os.getcwd(), \"..\"))\n",
    "DATA_PATH = os.path.join(BASE_DIR, \"data\", \"cleaned_creditcard.csv\")\n",
    "MODEL_DIR = os.path.join(BASE_DIR, \"models\")\n",
    "PREDICTIONS_PATH = os.path.join(BASE_DIR, \"data\", \"predictions.csv\")\n",
    "\n",
    "# Debugging: Print paths\n",
    "print(f\"Base Directory: {BASE_DIR}\")\n",
    "print(f\"Data Path: {DATA_PATH}\")\n",
    "print(f\"Model Directory: {MODEL_DIR}\")\n",
    "\n",
    "# Ensure paths exist\n",
    "if not os.path.exists(MODEL_DIR):\n",
    "    raise FileNotFoundError(f\"Model directory not found: {MODEL_DIR}\")\n",
    "if not os.path.exists(DATA_PATH):\n",
    "    raise FileNotFoundError(f\"Dataset not found: {DATA_PATH}\")\n",
    "\n",
    "# Load models\n",
    "logistic_model = joblib.load(os.path.join(MODEL_DIR, \"logistic_regression.pkl\"))\n",
    "rf_model = joblib.load(os.path.join(MODEL_DIR, \"random_forest.pkl\"))\n",
    "\n",
    "print(\"Models loaded successfully!\")\n",
    "\n",
    "# Load dataset\n",
    "df = pd.read_csv(DATA_PATH)\n",
    "\n",
    "# Separate features and target variable\n",
    "X = df.drop(columns=[\"Class\"])\n",
    "y = df[\"Class\"]\n",
    "\n",
    "# Make predictions using both models\n",
    "y_pred_logistic = logistic_model.predict(X)\n",
    "y_pred_rf = rf_model.predict(X)\n",
    "\n",
    "# Evaluate models\n",
    "print(\"\\nLogistic Regression Model Performance:\")\n",
    "print(f\"Accuracy: {accuracy_score(y, y_pred_logistic):.4f}\")\n",
    "print(classification_report(y, y_pred_logistic))\n",
    "\n",
    "print(\"\\nRandom Forest Model Performance:\")\n",
    "print(f\"Accuracy: {accuracy_score(y, y_pred_rf):.4f}\")\n",
    "print(classification_report(y, y_pred_rf))\n",
    "\n",
    "# Store predictions in DataFrame\n",
    "df[\"Logistic_Prediction\"] = y_pred_logistic\n",
    "df[\"RF_Prediction\"] = y_pred_rf\n",
    "\n",
    "# Save predictions to CSV\n",
    "df.to_csv(PREDICTIONS_PATH, index=False)\n",
    "print(f\"Predictions saved successfully at {PREDICTIONS_PATH}\")\n"
   ]
  },
  {
   "cell_type": "markdown",
   "metadata": {},
   "source": []
  }
 ],
 "metadata": {
  "kernelspec": {
   "display_name": "venv",
   "language": "python",
   "name": "python3"
  },
  "language_info": {
   "codemirror_mode": {
    "name": "ipython",
    "version": 3
   },
   "file_extension": ".py",
   "mimetype": "text/x-python",
   "name": "python",
   "nbconvert_exporter": "python",
   "pygments_lexer": "ipython3",
   "version": "3.12.4"
  }
 },
 "nbformat": 4,
 "nbformat_minor": 2
}
